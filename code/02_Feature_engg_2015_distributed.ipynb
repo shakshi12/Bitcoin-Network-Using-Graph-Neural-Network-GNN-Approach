{
 "cells": [
  {
   "cell_type": "code",
   "execution_count": null,
   "metadata": {
    "colab": {},
    "colab_type": "code",
    "id": "7FqClQzXyaJm"
   },
   "outputs": [],
   "source": [
    "import numpy as np\n",
    "import pandas as pd\n",
    "import time\n",
    "from datetime import datetime"
   ]
  },
  {
   "cell_type": "code",
   "execution_count": null,
   "metadata": {
    "colab": {
     "base_uri": "https://localhost:8080/",
     "height": 35
    },
    "colab_type": "code",
    "id": "z0QQdwfPyaJ4",
    "outputId": "cee402b0-7ae1-4e63-c52e-2a4cd2012d93"
   },
   "outputs": [],
   "source": [
    "pwd"
   ]
  },
  {
   "cell_type": "code",
   "execution_count": null,
   "metadata": {
    "colab": {
     "base_uri": "https://localhost:8080/",
     "height": 121
    },
    "colab_type": "code",
    "id": "RcXvSxrI0iaY",
    "outputId": "7a20dbce-9fd0-4b81-87df-467f0a2ca97f"
   },
   "outputs": [],
   "source": [
    "from google.colab import drive\n",
    "drive.mount('/content/drive')"
   ]
  },
  {
   "cell_type": "code",
   "execution_count": null,
   "metadata": {
    "colab": {},
    "colab_type": "code",
    "id": "lL91dC7d0t-s"
   },
   "outputs": [],
   "source": []
  },
  {
   "cell_type": "code",
   "execution_count": null,
   "metadata": {
    "colab": {},
    "colab_type": "code",
    "id": "n7pv6Qa6yaJ-"
   },
   "outputs": [],
   "source": [
    "bitcoin_5 = pd.read_csv(\"/content/drive/My Drive/bitcoin_sorted_2015.csv\")"
   ]
  },
  {
   "cell_type": "code",
   "execution_count": null,
   "metadata": {
    "colab": {},
    "colab_type": "code",
    "id": "uA6zkLPIyaKH"
   },
   "outputs": [],
   "source": [
    "bitcoin_5.drop('Unnamed: 0', axis = 1, inplace = True)"
   ]
  },
  {
   "cell_type": "code",
   "execution_count": null,
   "metadata": {
    "colab": {
     "base_uri": "https://localhost:8080/",
     "height": 402
    },
    "colab_type": "code",
    "id": "TUtR89_gyaKN",
    "outputId": "e6d57573-0d70-4213-f688-c0d9bbfbdd09"
   },
   "outputs": [],
   "source": [
    "bitcoin_5"
   ]
  },
  {
   "cell_type": "code",
   "execution_count": null,
   "metadata": {
    "colab": {},
    "colab_type": "code",
    "id": "O7uOfFjvyaKX"
   },
   "outputs": [],
   "source": [
    "#bitcoin_3.drop('index', axis = 1, inplace = True)"
   ]
  },
  {
   "cell_type": "code",
   "execution_count": null,
   "metadata": {
    "colab": {},
    "colab_type": "code",
    "id": "fp1Cog8cyaKr"
   },
   "outputs": [],
   "source": [
    "bitcoin_5.reset_index(inplace = True)"
   ]
  },
  {
   "cell_type": "code",
   "execution_count": null,
   "metadata": {
    "colab": {},
    "colab_type": "code",
    "id": "w0AV_aETyaK2"
   },
   "outputs": [],
   "source": [
    "single_index_5 = pd.read_csv(\"/content/drive/My Drive/pivot_2015.csv\")"
   ]
  },
  {
   "cell_type": "code",
   "execution_count": null,
   "metadata": {
    "colab": {},
    "colab_type": "code",
    "id": "_SAKjBa4yaKv"
   },
   "outputs": [],
   "source": [
    "single_index_5.reset_index(inplace = True, drop = True)"
   ]
  },
  {
   "cell_type": "code",
   "execution_count": null,
   "metadata": {
    "colab": {
     "base_uri": "https://localhost:8080/",
     "height": 402
    },
    "colab_type": "code",
    "id": "10fENPBByaK_",
    "outputId": "e1670496-2a61-4519-c734-e45096f0035d"
   },
   "outputs": [],
   "source": [
    "single_index_5"
   ]
  },
  {
   "cell_type": "code",
   "execution_count": null,
   "metadata": {
    "colab": {},
    "colab_type": "code",
    "id": "RgRVoSJ-yaLI"
   },
   "outputs": [],
   "source": [
    "single_index_5.drop('Unnamed: 0', axis = 1, inplace = True)"
   ]
  },
  {
   "cell_type": "code",
   "execution_count": null,
   "metadata": {
    "colab": {},
    "colab_type": "code",
    "id": "-1fji_5tyaLP"
   },
   "outputs": [],
   "source": [
    "# 1st notebook\n",
    "bit_copy5 = bitcoin_5.loc[:200000, :]"
   ]
  },
  {
   "cell_type": "code",
   "execution_count": null,
   "metadata": {
    "colab": {},
    "colab_type": "code",
    "id": "UJAm1tRmyaLW"
   },
   "outputs": [],
   "source": [
    "# 2nd notebook\n",
    "bit_copy5 = bitcoin_5.loc[100001:400000, :]"
   ]
  },
  {
   "cell_type": "code",
   "execution_count": null,
   "metadata": {
    "colab": {},
    "colab_type": "code",
    "id": "DcwsUIG9yaLc"
   },
   "outputs": [],
   "source": [
    "# 3rd notebook\n",
    "bit_copy52 = bitcoin_5.loc[400001:600000, :]"
   ]
  },
  {
   "cell_type": "code",
   "execution_count": null,
   "metadata": {
    "colab": {},
    "colab_type": "code",
    "id": "5EhKeQngyaLi"
   },
   "outputs": [],
   "source": [
    "# 4th notebook\n",
    "bit_copy53 = bitcoin_5.loc[600001:800000, :]"
   ]
  },
  {
   "cell_type": "code",
   "execution_count": null,
   "metadata": {
    "colab": {},
    "colab_type": "code",
    "id": "xNgjl4c_yaLs"
   },
   "outputs": [],
   "source": [
    "# 5th notebook\n",
    "bit_copy54 = bitcoin_5.loc[800001:1000000, :]"
   ]
  },
  {
   "cell_type": "code",
   "execution_count": null,
   "metadata": {
    "colab": {},
    "colab_type": "code",
    "id": "fD7KbEd5yaLw"
   },
   "outputs": [],
   "source": [
    "# 6th notebook\n",
    "bit_copy55 = bitcoin_5.loc[1000001:1200000, :]"
   ]
  },
  {
   "cell_type": "code",
   "execution_count": null,
   "metadata": {
    "colab": {},
    "colab_type": "code",
    "id": "K0bGidw3yaL9"
   },
   "outputs": [],
   "source": [
    "# 7th notebook\n",
    "bit_copy56 = bitcoin_5.loc[1200001:1400000, :]"
   ]
  },
  {
   "cell_type": "code",
   "execution_count": null,
   "metadata": {
    "colab": {},
    "colab_type": "code",
    "id": "6Zt6WYINyaMJ"
   },
   "outputs": [],
   "source": [
    "# 8th notebook\n",
    "bit_copy57 = bitcoin_5.loc[1400001:1600000, :]"
   ]
  },
  {
   "cell_type": "code",
   "execution_count": null,
   "metadata": {
    "colab": {},
    "colab_type": "code",
    "id": "wRx_MVF7yaMO"
   },
   "outputs": [],
   "source": [
    "# 9th notebook\n",
    "bit_copy58 = bitcoin_5.loc[1600001:1800000, :]"
   ]
  },
  {
   "cell_type": "code",
   "execution_count": null,
   "metadata": {
    "colab": {},
    "colab_type": "code",
    "id": "ig7tKZIMyaMU"
   },
   "outputs": [],
   "source": [
    "# 10th notebook\n",
    "bit_copy59 = bitcoin_5.loc[1800001:, :]"
   ]
  },
  {
   "cell_type": "code",
   "execution_count": null,
   "metadata": {
    "colab": {
     "base_uri": "https://localhost:8080/",
     "height": 402
    },
    "colab_type": "code",
    "id": "WmZiehe7yaMd",
    "outputId": "ea12729b-cba0-4ba4-e3a1-106b1173869e"
   },
   "outputs": [],
   "source": [
    "bit_copy5"
   ]
  },
  {
   "cell_type": "code",
   "execution_count": null,
   "metadata": {
    "colab": {
     "base_uri": "https://localhost:8080/",
     "height": 151
    },
    "colab_type": "code",
    "id": "Az8jw22byaMh",
    "outputId": "7b9c63db-4c61-4331-eb60-46d9bcae7343"
   },
   "outputs": [],
   "source": [
    "#deleting rows with less than 100 transactions (src and target)\n",
    "c5 = 1\n",
    "start5 = time.time()\n",
    "for x5 in range(0, len(single_index_5)):\n",
    "    if (c5 == 100 or c5 == 1000 or c5 == 2000 or c5 == 10000 or c5 == 50000 or c5 == 100000 or c5 == 400000 or c5 == 500000):\n",
    "        print(c5)\n",
    "    c5 = c5 + 1\n",
    "    indexNames_5 = bit_copy5[(bit_copy5['source'] == single_index_5.iloc[x5]['source']) & \n",
    "                            (bit_copy5['target'] == single_index_5.iloc[x5]['target'])].index\n",
    "    bit_copy5.drop(indexNames_5, inplace = True)\n",
    "elapsed_time5 = (time.time() - start5)\n",
    "print(elapsed_time5)"
   ]
  },
  {
   "cell_type": "code",
   "execution_count": null,
   "metadata": {
    "colab": {},
    "colab_type": "code",
    "id": "PbPKbgwryaMs"
   },
   "outputs": [],
   "source": [
    "bit_copy5"
   ]
  },
  {
   "cell_type": "code",
   "execution_count": null,
   "metadata": {
    "colab": {},
    "colab_type": "code",
    "id": "ExkyHf_3yaMw"
   },
   "outputs": [],
   "source": [
    "bit_copy5.reset_index(inplace = True, drop = True)"
   ]
  },
  {
   "cell_type": "code",
   "execution_count": null,
   "metadata": {
    "colab": {},
    "colab_type": "code",
    "id": "5kGkqto_yaM6"
   },
   "outputs": [],
   "source": [
    "# 1st notebook\n",
    "bit_copy5.to_csv('/content/drive/My Drive/bitcoin_sorted_2015_after_less100_1.csv')"
   ]
  },
  {
   "cell_type": "code",
   "execution_count": null,
   "metadata": {
    "colab": {},
    "colab_type": "code",
    "id": "QQaVlwgiyaNA"
   },
   "outputs": [],
   "source": [
    "# 2nd notebook\n",
    "bit_copy5.to_csv('/content/drive/My Drive/bitcoin_sorted_2015_after_less100_2.csv')"
   ]
  },
  {
   "cell_type": "code",
   "execution_count": null,
   "metadata": {
    "colab": {},
    "colab_type": "code",
    "id": "EkzaMg2k2Xdi"
   },
   "outputs": [],
   "source": [
    "# 3rd notebook\n",
    "bit_copy5.to_csv('/content/drive/My Drive/bitcoin_sorted_2015_after_less100_3.csv')"
   ]
  },
  {
   "cell_type": "code",
   "execution_count": null,
   "metadata": {
    "colab": {},
    "colab_type": "code",
    "id": "mAoSsUq_2cq5"
   },
   "outputs": [],
   "source": [
    "# 4th notebook\n",
    "bit_copy5.to_csv('/content/drive/My Drive/bitcoin_sorted_2015_after_less100_4.csv')"
   ]
  },
  {
   "cell_type": "code",
   "execution_count": null,
   "metadata": {
    "colab": {},
    "colab_type": "code",
    "id": "P969cfhY2c4x"
   },
   "outputs": [],
   "source": [
    "# 5th notebook\n",
    "bit_copy5.to_csv('/content/drive/My Drive/bitcoin_sorted_2015_after_less100_5.csv')"
   ]
  },
  {
   "cell_type": "code",
   "execution_count": null,
   "metadata": {
    "colab": {},
    "colab_type": "code",
    "id": "lfyEtL692dCB"
   },
   "outputs": [],
   "source": [
    "# 6th notebook\n",
    "bit_copy5.to_csv('/content/drive/My Drive/bitcoin_sorted_2015_after_less100_6.csv')"
   ]
  },
  {
   "cell_type": "code",
   "execution_count": null,
   "metadata": {
    "colab": {},
    "colab_type": "code",
    "id": "WBfE9-Bv2dNd"
   },
   "outputs": [],
   "source": [
    "# 7th notebook\n",
    "bit_copy5.to_csv('/content/drive/My Drive/bitcoin_sorted_2015_after_less100_7.csv')"
   ]
  },
  {
   "cell_type": "code",
   "execution_count": null,
   "metadata": {
    "colab": {},
    "colab_type": "code",
    "id": "eSwuh5NR2dbT"
   },
   "outputs": [],
   "source": [
    "# 8th notebook\n",
    "bit_copy5.to_csv('/content/drive/My Drive/bitcoin_sorted_2015_after_less100_8.csv')"
   ]
  },
  {
   "cell_type": "code",
   "execution_count": null,
   "metadata": {
    "colab": {},
    "colab_type": "code",
    "id": "zFt92wHS2d83"
   },
   "outputs": [],
   "source": [
    "# 9th notebook\n",
    "bit_copy5.to_csv('/content/drive/My Drive/bitcoin_sorted_2015_after_less100_9.csv')"
   ]
  },
  {
   "cell_type": "code",
   "execution_count": null,
   "metadata": {
    "colab": {},
    "colab_type": "code",
    "id": "Kc-Tll_n2o2B"
   },
   "outputs": [],
   "source": [
    "# 10th notebook\n",
    "bit_copy5.to_csv('/content/drive/My Drive/bitcoin_sorted_2015_after_less100_10.csv')"
   ]
  }
 ],
 "metadata": {
  "colab": {
   "collapsed_sections": [],
   "name": "Feature engg-2015-distributed.ipynb",
   "provenance": []
  },
  "kernelspec": {
   "display_name": "Python 3",
   "language": "python",
   "name": "python3"
  },
  "language_info": {
   "codemirror_mode": {
    "name": "ipython",
    "version": 3
   },
   "file_extension": ".py",
   "mimetype": "text/x-python",
   "name": "python",
   "nbconvert_exporter": "python",
   "pygments_lexer": "ipython3",
   "version": "3.8.10"
  }
 },
 "nbformat": 4,
 "nbformat_minor": 1
}
